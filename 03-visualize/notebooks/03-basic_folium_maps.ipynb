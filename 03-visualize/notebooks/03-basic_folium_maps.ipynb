{
 "cells": [
  {
   "cell_type": "markdown",
   "metadata": {},
   "source": [
    "# Data Visualization\n",
    "\n",
    "### Instructor: Rossano Schifanella\n",
    "Email: [rossano.schifanella@unito.it](mailto:rossano.schifanella@unito.it)"
   ]
  },
  {
   "cell_type": "code",
   "execution_count": null,
   "metadata": {},
   "outputs": [],
   "source": [
    "import pandas as pd\n",
    "import folium\n",
    "\n",
    "print(folium.__version__)"
   ]
  },
  {
   "cell_type": "code",
   "execution_count": null,
   "metadata": {},
   "outputs": [],
   "source": [
    "folium_map = folium.Map(location=[40.738, -73.98],\n",
    "                        zoom_start=13,\n",
    "                        tiles=\"cartodbpositron\")\n",
    "\n",
    "folium.CircleMarker(location=[40.738, -73.98],fill=True).add_to(folium_map)\n",
    "folium_map"
   ]
  },
  {
   "cell_type": "markdown",
   "metadata": {},
   "source": [
    "Data on bike trips (not locally stored due to space contraints) can be downloaded from the NYC bike share program at: https://www.citibikenyc.com/system-data "
   ]
  },
  {
   "cell_type": "code",
   "execution_count": null,
   "metadata": {},
   "outputs": [],
   "source": [
    "bike_data = pd.read_csv(\"data/citybike/2013-10-citibike-trip-data.csv.zip\")\n",
    "bike_data[\"starttime\"] = pd.to_datetime(bike_data[\"starttime\"])\n",
    "bike_data[\"stoptime\"] = pd.to_datetime(bike_data[\"stoptime\"])\n",
    "bike_data[\"hour\"] = bike_data[\"starttime\"].map(lambda x: x.hour)\n"
   ]
  },
  {
   "cell_type": "code",
   "execution_count": null,
   "metadata": {},
   "outputs": [],
   "source": [
    "bike_data.head()"
   ]
  },
  {
   "cell_type": "code",
   "execution_count": null,
   "metadata": {},
   "outputs": [],
   "source": [
    "def get_trip_counts_by_hour(selected_hour):\n",
    "    # make a DataFrame with locations for each bike station\n",
    "    locations = bike_data.groupby(\"start station id\").first()\n",
    "    locations = locations.loc[:, [\"start station latitude\",\n",
    "                                 \"start station longitude\",\n",
    "                                 \"start station name\"]]\n",
    "    #select one time of day\n",
    "    subset = bike_data[bike_data[\"hour\"]==selected_hour]\n",
    "    \n",
    "    # count trips for each destination\n",
    "    departure_counts =  subset.groupby(\"start station id\").count()\n",
    "    departure_counts = departure_counts.iloc[:,[0]]\n",
    "    departure_counts.columns= [\"departure count\"]\n",
    "    \n",
    "    # count trips for each origin\n",
    "    arrival_counts =  subset.groupby(\"end station id\").count().iloc[:,[0]]\n",
    "    arrival_counts.columns= [\"arrival count\"]\n",
    "\n",
    "    #join departure counts, arrival counts, and locations\n",
    "    trip_counts = departure_counts.join(locations).join(arrival_counts)\n",
    "    return trip_counts\n",
    "\n",
    "# print a sample to check our code works\n",
    "get_trip_counts_by_hour(6).head()"
   ]
  },
  {
   "cell_type": "code",
   "execution_count": null,
   "metadata": {},
   "outputs": [],
   "source": [
    "def plot_station_counts(trip_counts):\n",
    "    # generate a new map\n",
    "    folium_map = folium.Map(location=[40.738, -73.98],\n",
    "                            zoom_start=13,\n",
    "                            tiles=\"cartodbpositron\",\n",
    "                            width='50%')\n",
    "\n",
    "    # for each row in the data, add a cicle marker\n",
    "    for index, row in trip_counts.iterrows():\n",
    "        # calculate net departures\n",
    "        net_departures = (row[\"departure count\"]-row[\"arrival count\"])\n",
    "        \n",
    "        # generate the popup message that is shown on click.\n",
    "        popup_text = \"{}<br> total departures: {}<br> total arrivals: {}<br> net departures: {}\"\n",
    "        popup_text = popup_text.format(row[\"start station name\"],\n",
    "                          row[\"arrival count\"],\n",
    "                          row[\"departure count\"],\n",
    "                          net_departures)\n",
    "        \n",
    "        # radius of circles\n",
    "        radius = net_departures/20\n",
    "        \n",
    "        # choose the color of the marker\n",
    "        if net_departures>0:\n",
    "            # color=\"#FFCE00\" # orange\n",
    "            # color=\"#007849\" # green\n",
    "            color=\"#E37222\" # tangerine\n",
    "        else:\n",
    "            # color=\"#0375B4\" # blue\n",
    "            # color=\"#FFCE00\" # yellow            \n",
    "            color=\"#0A8A9F\" # teal\n",
    "        \n",
    "        # add marker to the map\n",
    "        folium.CircleMarker(location=(row[\"start station latitude\"],\n",
    "                                      row[\"start station longitude\"]),\n",
    "                            radius=radius,\n",
    "                            color=color,\n",
    "                            popup=popup_text,\n",
    "                            fill=True).add_to(folium_map)\n",
    "    return folium_map"
   ]
  },
  {
   "cell_type": "code",
   "execution_count": null,
   "metadata": {},
   "outputs": [],
   "source": [
    "# plot net departures at 9AM\n",
    "\n",
    "trip_counts = get_trip_counts_by_hour(9)\n",
    "plot_station_counts(trip_counts)"
   ]
  },
  {
   "cell_type": "code",
   "execution_count": null,
   "metadata": {},
   "outputs": [],
   "source": [
    "# plot net departures at 6PM\n",
    "\n",
    "trip_counts = get_trip_counts_by_hour(18)\n",
    "folium_map = plot_station_counts(trip_counts)\n",
    "folium_map"
   ]
  },
  {
   "cell_type": "code",
   "execution_count": null,
   "metadata": {},
   "outputs": [],
   "source": [
    "folium_map.save(\"maps/part_1.html\")"
   ]
  }
 ],
 "metadata": {
  "kernelspec": {
   "display_name": "Python 3",
   "language": "python",
   "name": "python3"
  },
  "language_info": {
   "codemirror_mode": {
    "name": "ipython",
    "version": 3
   },
   "file_extension": ".py",
   "mimetype": "text/x-python",
   "name": "python",
   "nbconvert_exporter": "python",
   "pygments_lexer": "ipython3",
   "version": "3.7.7"
  }
 },
 "nbformat": 4,
 "nbformat_minor": 4
}

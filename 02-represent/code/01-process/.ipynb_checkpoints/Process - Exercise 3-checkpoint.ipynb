{
 "cells": [
  {
   "cell_type": "markdown",
   "metadata": {},
   "source": [
    "# Exercise 3\n",
    "\n",
    "In this exercise you will learn how to:\n",
    "* Use Python to load data from a shapefile, CSV or a GeoJSON datasource\n",
    "* Perform spatial functions\n",
    "* Boost the performance: indexing and prepared geometries\n"
   ]
  },
  {
   "cell_type": "markdown",
   "metadata": {},
   "source": [
    "### Define basic transformation functions\n",
    "\n",
    "Basic functions to transform SRID of Point, Polygon or MultiPolygon"
   ]
  },
  {
   "cell_type": "code",
   "execution_count": 3,
   "metadata": {
    "collapsed": false
   },
   "outputs": [],
   "source": [
    "from pyproj import Proj, transform\n",
    "\n",
    "def transform_point(SRID_from, SRID_to, point):\n",
    "    p_in    = Proj(\"+init=%s\" %SRID_from)\n",
    "    p_out   = Proj(\"+init=%s\" %SRID_to)\n",
    "    return transform(p_in, p_out, point[0], point[1])\n",
    "\n",
    "def transform_polygon(SRID_from, SRID_to, geometry):\n",
    "    coordinates = []\n",
    "    for polygon in geometry:\n",
    "        projected_coordinates = []\n",
    "        for p in polygon:\n",
    "            projected_coordinates.append(transform_point(SRID_from, SRID_to, p))\n",
    "        coordinates.append(projected_coordinates)\n",
    "    return coordinates\n",
    "\n",
    "def transform_multipolygon(SRID_from, SRID_to, multipolygon):\n",
    "    projected_coordinates = []\n",
    "    for polygon in multipolygon:\n",
    "        projected_coordinates.append(transform_polygon(SRID_from, SRID_from, polygon))\n",
    "    return projected_coordinates"
   ]
  },
  {
   "cell_type": "markdown",
   "metadata": {},
   "source": [
    "### Load data from a shapefile \n",
    "\n",
    "Load a shapefile from a local file and create a _shapely_ object for each geometry feature  "
   ]
  },
  {
   "cell_type": "code",
   "execution_count": 5,
   "metadata": {
    "collapsed": false
   },
   "outputs": [
    {
     "ename": "OSError",
     "evalue": "no such file or directory: '../data/shp/nyc_neighborhoods/nyc_neighborhoods.shp'",
     "output_type": "error",
     "traceback": [
      "\u001b[0;31m---------------------------------------------------------------------------\u001b[0m",
      "\u001b[0;31mOSError\u001b[0m                                   Traceback (most recent call last)",
      "\u001b[0;32m<ipython-input-5-3b2c6e3f37d3>\u001b[0m in \u001b[0;36m<module>\u001b[0;34m()\u001b[0m\n\u001b[1;32m      4\u001b[0m \u001b[0mneighborhoods2geometry\u001b[0m \u001b[0;34m=\u001b[0m \u001b[0;34m{\u001b[0m\u001b[0;34m}\u001b[0m\u001b[0;34m\u001b[0m\u001b[0m\n\u001b[1;32m      5\u001b[0m \u001b[0;34m\u001b[0m\u001b[0m\n\u001b[0;32m----> 6\u001b[0;31m \u001b[0;32mwith\u001b[0m \u001b[0mfiona\u001b[0m\u001b[0;34m.\u001b[0m\u001b[0mopen\u001b[0m\u001b[0;34m(\u001b[0m\u001b[0;34m'../data/shp/nyc_neighborhoods/nyc_neighborhoods.shp'\u001b[0m\u001b[0;34m,\u001b[0m \u001b[0;34m'r'\u001b[0m\u001b[0;34m)\u001b[0m \u001b[0;32mas\u001b[0m \u001b[0msource\u001b[0m\u001b[0;34m:\u001b[0m\u001b[0;34m\u001b[0m\u001b[0m\n\u001b[0m\u001b[1;32m      7\u001b[0m     \u001b[0mprint\u001b[0m\u001b[0;34m(\u001b[0m\u001b[0;34m\"Shapefile CRS = %s\"\u001b[0m \u001b[0;34m%\u001b[0m\u001b[0msource\u001b[0m\u001b[0;34m.\u001b[0m\u001b[0mcrs\u001b[0m\u001b[0;34m[\u001b[0m\u001b[0;34m'init'\u001b[0m\u001b[0;34m]\u001b[0m\u001b[0;34m)\u001b[0m\u001b[0;34m\u001b[0m\u001b[0m\n\u001b[1;32m      8\u001b[0m     \u001b[0;32mfor\u001b[0m \u001b[0mf\u001b[0m \u001b[0;32min\u001b[0m \u001b[0msource\u001b[0m\u001b[0;34m:\u001b[0m\u001b[0;34m\u001b[0m\u001b[0m\n",
      "\u001b[0;32m/Library/Frameworks/Python.framework/Versions/3.6/lib/python3.6/site-packages/fiona/__init__.py\u001b[0m in \u001b[0;36mopen\u001b[0;34m(path, mode, driver, schema, crs, encoding, layer, vfs, enabled_drivers, crs_wkt)\u001b[0m\n\u001b[1;32m    160\u001b[0m                 \u001b[0;32mraise\u001b[0m \u001b[0mIOError\u001b[0m\u001b[0;34m(\u001b[0m\u001b[0;34m\"no such archive file: %r\"\u001b[0m \u001b[0;34m%\u001b[0m \u001b[0marchive\u001b[0m\u001b[0;34m)\u001b[0m\u001b[0;34m\u001b[0m\u001b[0m\n\u001b[1;32m    161\u001b[0m         \u001b[0;32melif\u001b[0m \u001b[0mpath\u001b[0m \u001b[0;34m!=\u001b[0m \u001b[0;34m'-'\u001b[0m \u001b[0;32mand\u001b[0m \u001b[0;32mnot\u001b[0m \u001b[0mos\u001b[0m\u001b[0;34m.\u001b[0m\u001b[0mpath\u001b[0m\u001b[0;34m.\u001b[0m\u001b[0mexists\u001b[0m\u001b[0;34m(\u001b[0m\u001b[0mpath\u001b[0m\u001b[0;34m)\u001b[0m\u001b[0;34m:\u001b[0m\u001b[0;34m\u001b[0m\u001b[0m\n\u001b[0;32m--> 162\u001b[0;31m             \u001b[0;32mraise\u001b[0m \u001b[0mIOError\u001b[0m\u001b[0;34m(\u001b[0m\u001b[0;34m\"no such file or directory: %r\"\u001b[0m \u001b[0;34m%\u001b[0m \u001b[0mpath\u001b[0m\u001b[0;34m)\u001b[0m\u001b[0;34m\u001b[0m\u001b[0m\n\u001b[0m\u001b[1;32m    163\u001b[0m         c = Collection(path, mode, driver=driver, encoding=encoding,\n\u001b[1;32m    164\u001b[0m                        \u001b[0mlayer\u001b[0m\u001b[0;34m=\u001b[0m\u001b[0mlayer\u001b[0m\u001b[0;34m,\u001b[0m \u001b[0mvsi\u001b[0m\u001b[0;34m=\u001b[0m\u001b[0mvsi\u001b[0m\u001b[0;34m,\u001b[0m \u001b[0marchive\u001b[0m\u001b[0;34m=\u001b[0m\u001b[0marchive\u001b[0m\u001b[0;34m,\u001b[0m\u001b[0;34m\u001b[0m\u001b[0m\n",
      "\u001b[0;31mOSError\u001b[0m: no such file or directory: '../data/shp/nyc_neighborhoods/nyc_neighborhoods.shp'"
     ]
    }
   ],
   "source": [
    "from shapely.geometry import *\n",
    "import fiona\n",
    "\n",
    "neighborhoods2geometry = {}\n",
    "\n",
    "with fiona.open('../data/shp/nyc_neighborhoods/nyc_neighborhoods.shp', 'r') as source:\n",
    "    print(\"Shapefile CRS = %s\" %source.crs['init'])\n",
    "    for f in source:\n",
    "        try:\n",
    "            neighborhoods2geometry[f['properties']['NAME']] = shape(f['geometry'])\n",
    "        except Exception as ex:\n",
    "            print(ex)\n",
    "\n",
    "print(\"Loaded %d features (attributes: %s)\" %(len(neighborhoods2geometry), f['properties'].keys())) \n"
   ]
  },
  {
   "cell_type": "markdown",
   "metadata": {},
   "source": [
    "### Load crime data\n",
    "\n",
    "Load crime data from a local CSV file and:\n",
    "\n",
    "* Transform the original coordinates system (EPSG:4326) to the same SRID used with the neighborhood data (EPSG:26918)\n",
    "* Create a _shapely_ Point for each crime event\n",
    "* Save additional information on a crime event\n"
   ]
  },
  {
   "cell_type": "code",
   "execution_count": null,
   "metadata": {
    "collapsed": false
   },
   "outputs": [],
   "source": [
    "from shapely.geometry import Point\n",
    "from datetime import datetime\n",
    "import csv\n",
    "\n",
    "crime_data_file = '../../data/crime/nyc_crime.csv'\n",
    "\n",
    "crime_events = []\n",
    "print(\"loading crime data from %s...\" %crime_data_file)\n",
    "with open(crime_data_file, 'r') as f:\n",
    "    reader = csv.DictReader(f)\n",
    "    for row in reader:\n",
    "#       Transform crime event location data from EPSG:4326 to EPSG:26918 SRID (same of the neighborhoods shapefile)  \n",
    "        projected_coordinates = transform_point(\"EPSG:4326\",\"EPSG:26918\", (row['longitude'], row['latitude']))\n",
    "        crime_event_location = Point(projected_coordinates)\n",
    "        crime_events.append({\n",
    "            'type': row['Offense'],\n",
    "            'category': row['Offense Classification'],\n",
    "            'geom': crime_event_location,\n",
    "            'date': datetime.strptime(row['Occurrence Date'], '%m/%d/%Y %H:%M:%S %p'),\n",
    "        })\n",
    "\n",
    "print(\"loaded %s crime events.\" %len(crime_events))\n"
   ]
  },
  {
   "cell_type": "markdown",
   "metadata": {},
   "source": [
    "### Perform spatial functions on Python geometry objects\n",
    "\n",
    "In this section we will describe how to compute the most frequent type of crime and its relative frequency for each neighborhood in New York City. We will consider only 10.000 crime instances due to performance issues in computing the spatial function _within_ without the use of indexes or any other performance improvement. "
   ]
  },
  {
   "cell_type": "code",
   "execution_count": null,
   "metadata": {
    "collapsed": false
   },
   "outputs": [],
   "source": [
    "import operator \n",
    "import time\n",
    "\n",
    "neighborhood2crime_distribution = {}\n",
    "\n",
    "start_time = time.time()\n",
    "for current in crime_events[:10000]:\n",
    "    \n",
    "    crime_type = current['type']\n",
    "\n",
    "    for neighborhood_name in neighborhoods2geometry: \n",
    "        \n",
    "        neighborhood_geom = neighborhoods2geometry[neighborhood_name]\n",
    "        \n",
    "        if current['geom'].within(neighborhood_geom):\n",
    "            neighborhood2crime_distribution.setdefault(neighborhood_name, {})\n",
    "            neighborhood2crime_distribution[neighborhood_name].setdefault(crime_type, 0)\n",
    "            neighborhood2crime_distribution[neighborhood_name][crime_type]+=1\n",
    "            break\n",
    "\n",
    "print(\"Time elapsed: %s seconds\\n\" % (time.time() - start_time))\n",
    "\n",
    "for neighborhood_name in neighborhood2crime_distribution:\n",
    "    most_frequent_crime = max(\n",
    "                            neighborhood2crime_distribution[neighborhood_name].items(), \n",
    "                            key=operator.itemgetter(1))[0]\n",
    "    n_events_most_frequent_crime = neighborhood2crime_distribution[neighborhood_name][most_frequent_crime]\n",
    "    total_crimes = sum(neighborhood2crime_distribution[neighborhood_name].values())\n",
    "    \n",
    "    print(\"%25s\\t%30s\\t%s\\t%.2f\" %(neighborhood_name, \n",
    "                                   most_frequent_crime, \n",
    "                                   n_events_most_frequent_crime,\n",
    "                                   (n_events_most_frequent_crime/total_crimes)*100))\n",
    "\n",
    "\n"
   ]
  },
  {
   "cell_type": "markdown",
   "metadata": {},
   "source": [
    "### Speed up the computation with indexes and prepared geometries\n",
    "\n",
    "To improve the running time of spatial functions (especially if the operation is repeated many times on the same geometry) we can use the following basic strategies:\n",
    "\n",
    "* Create a rtree index that contains the bounding box of the neighborhood shapes\n",
    "* Simplify (preserving the topology) the neighborhood shapes\n",
    "* Create prepared geometries for each simplified neighborhood that greatly improve the performance of repeated spatil operations\n",
    "\n",
    "Note that with these simple improvements we are able to process the entire crime dataset (>100K events) in almost the same time than the previous example (only 10K istances)"
   ]
  },
  {
   "cell_type": "code",
   "execution_count": null,
   "metadata": {
    "collapsed": false
   },
   "outputs": [],
   "source": [
    "from shapely.prepared import prep\n",
    "from rtree import index\n",
    "\n",
    "# Create an index with the neighborhoods  \n",
    "idx = index.Index()\n",
    "\n",
    "id2neigh = {}\n",
    "neighborhoods2prepared_geometry = {}\n",
    "\n",
    "start_time = time.time()\n",
    "\n",
    "for i, neigh in enumerate(neighborhoods2geometry):\n",
    "\n",
    "    id2neigh[i] = neigh    \n",
    "    idx.insert(i, neighborhoods2geometry[neigh].bounds)\n",
    "    neighborhoods2prepared_geometry[neigh] = prep(neighborhoods2geometry[neigh].simplify(0.5, preserve_topology=True))\n",
    "    \n",
    "neighborhood2crime_distribution = {}\n",
    "\n",
    "for current in crime_events:\n",
    "    \n",
    "    crime_type = current['type']\n",
    "    \n",
    "    for j in idx.intersection(current['geom'].bounds):\n",
    "        \n",
    "        if neighborhoods2prepared_geometry[id2neigh[j]].contains(current['geom']):\n",
    "            neighborhood2crime_distribution.setdefault(id2neigh[j], {})\n",
    "            neighborhood2crime_distribution[id2neigh[j]].setdefault(crime_type, 0)\n",
    "            neighborhood2crime_distribution[id2neigh[j]][crime_type]+=1\n",
    "            break\n",
    "            \n",
    "print(\"Time elapsed: %s seconds\\n\" % (time.time() - start_time))\n",
    "\n",
    "for neighborhood_name in neighborhood2crime_distribution:\n",
    "    most_frequent_crime = max(\n",
    "                            neighborhood2crime_distribution[neighborhood_name].items(), \n",
    "                            key=operator.itemgetter(1))[0]\n",
    "    n_events_most_frequent_crime = neighborhood2crime_distribution[neighborhood_name][most_frequent_crime]\n",
    "    total_crimes = sum(neighborhood2crime_distribution[neighborhood_name].values())\n",
    "    \n",
    "    print(\"%25s\\t%30s\\t%s\\t%.2f\" %(neighborhood_name, \n",
    "                                   most_frequent_crime, \n",
    "                                   n_events_most_frequent_crime,\n",
    "                                   (n_events_most_frequent_crime/total_crimes)*100))"
   ]
  },
  {
   "cell_type": "markdown",
   "metadata": {},
   "source": [
    "**Q1: _Which is the street in New York City with the highest density of crime? (e.g., the highest concentration of criminal activity w.r.t. its lenght)_**"
   ]
  },
  {
   "cell_type": "code",
   "execution_count": null,
   "metadata": {
    "collapsed": true
   },
   "outputs": [],
   "source": []
  }
 ],
 "metadata": {
  "kernelspec": {
   "display_name": "Python 3",
   "language": "python",
   "name": "python3"
  },
  "language_info": {
   "codemirror_mode": {
    "name": "ipython",
    "version": 3
   },
   "file_extension": ".py",
   "mimetype": "text/x-python",
   "name": "python",
   "nbconvert_exporter": "python",
   "pygments_lexer": "ipython3",
   "version": "3.6.4"
  }
 },
 "nbformat": 4,
 "nbformat_minor": 2
}

{
 "cells": [
  {
   "cell_type": "markdown",
   "metadata": {},
   "source": [
    "# Spatial Analysis and Modeling\n",
    "\n",
    "### Instructor: Rossano Schifanella\n",
    "Email: [rossano.schifanella@unito.it](mailto:rossano.schifanella@unito.it)\n",
    "\n",
    "## Represent Spatial Data"
   ]
  },
  {
   "cell_type": "markdown",
   "metadata": {},
   "source": [
    "## Exercise 3\n",
    "\n",
    "In this exercise you will learn how to:\n",
    "* Use Python to load data from a shapefile, CSV or a GeoJSON datasource\n",
    "* Perform spatial functions\n",
    "* Boost the performance: indexing and prepared geometries\n"
   ]
  },
  {
   "cell_type": "markdown",
   "metadata": {},
   "source": [
    "### Define basic transformation functions\n",
    "\n",
    "Basic functions to transform SRID of Point, Polygon or MultiPolygon"
   ]
  },
  {
   "cell_type": "code",
   "execution_count": 1,
   "metadata": {
    "collapsed": false,
    "jupyter": {
     "outputs_hidden": false
    }
   },
   "outputs": [],
   "source": [
    "from pyproj import Proj, transform\n",
    "\n",
    "def transform_point(SRID_from, SRID_to, point):\n",
    "    p_in    = Proj(\"+init=%s\" %SRID_from)\n",
    "    p_out   = Proj(\"+init=%s\" %SRID_to)\n",
    "    return transform(p_in, p_out, point[0], point[1])\n",
    "\n",
    "def transform_polygon(SRID_from, SRID_to, geometry):\n",
    "    coordinates = []\n",
    "    for polygon in geometry:\n",
    "        projected_coordinates = []\n",
    "        for p in polygon:\n",
    "            projected_coordinates.append(transform_point(SRID_from, SRID_to, p))\n",
    "        coordinates.append(projected_coordinates)\n",
    "    return coordinates\n",
    "\n",
    "def transform_multipolygon(SRID_from, SRID_to, multipolygon):\n",
    "    projected_coordinates = []\n",
    "    for polygon in multipolygon:\n",
    "        projected_coordinates.append(transform_polygon(SRID_from, SRID_from, polygon))\n",
    "    return projected_coordinates"
   ]
  },
  {
   "cell_type": "markdown",
   "metadata": {},
   "source": [
    "### Load data from a shapefile \n",
    "\n",
    "Load a shapefile from a local file and create a _shapely_ object for each geometry feature  "
   ]
  },
  {
   "cell_type": "code",
   "execution_count": 2,
   "metadata": {
    "collapsed": false,
    "jupyter": {
     "outputs_hidden": false
    }
   },
   "outputs": [
    {
     "name": "stdout",
     "output_type": "stream",
     "text": [
      "Shapefile CRS = epsg:26918\n",
      "Loaded 129 features (attributes: odict_keys(['BORONAME', 'NAME']))\n"
     ]
    }
   ],
   "source": [
    "from shapely.geometry import *\n",
    "import fiona\n",
    "\n",
    "neighborhoods2geometry = {}\n",
    "\n",
    "with fiona.open('../data/shp/nyc_neighborhoods/nyc_neighborhoods.shp', 'r') as source:\n",
    "    print(\"Shapefile CRS = %s\" %source.crs['init'])\n",
    "    for f in source:\n",
    "        try:\n",
    "            neighborhoods2geometry[f['properties']['NAME']] = shape(f['geometry'])\n",
    "        except Exception as ex:\n",
    "            print(ex)\n",
    "\n",
    "print(\"Loaded %d features (attributes: %s)\" %(len(neighborhoods2geometry), f['properties'].keys())) \n"
   ]
  },
  {
   "cell_type": "code",
   "execution_count": 3,
   "metadata": {},
   "outputs": [
    {
     "data": {
      "image/svg+xml": [
       "<svg xmlns=\"http://www.w3.org/2000/svg\" xmlns:xlink=\"http://www.w3.org/1999/xlink\" width=\"300\" height=\"300\" viewBox=\"582606.8040065975 4494014.6019569235 4444.78625662101 3691.662276524119\" preserveAspectRatio=\"xMinYMin meet\"><g transform=\"matrix(1,0,0,-1,0,8991720.86619037)\"><path fill-rule=\"evenodd\" fill=\"#66cc99\" stroke=\"#555555\" stroke-width=\"29.631908377473398\" opacity=\"0.6\" d=\"M 582771.4257198056,4495167.427365481 L 584651.2943549604,4497541.64252024 L 585422.2807558172,4496946.878818268 L 586886.9685500104,4495817.449966315 L 585588.6556524017,4495630.326774346 L 584465.0125448668,4494198.883010179 L 584332.4288763426,4494179.2236701315 L 584199.7371319681,4494374.26086377 L 584033.4428052086,4494549.90133414 L 583829.2610803288,4494765.574784693 L 583573.8426533843,4494910.491737136 L 583299.143872625,4495034.007512174 L 583134.003659393,4495034.322667328 L 583027.5867306096,4495034.527694217 L 582926.2536556575,4495088.579070913 L 582904.7205756706,4495172.444347731 L 582771.4257198056,4495167.427365481 z\" /></g></svg>"
      ],
      "text/plain": [
       "<shapely.geometry.polygon.Polygon at 0x11742ea10>"
      ]
     },
     "execution_count": 3,
     "metadata": {},
     "output_type": "execute_result"
    }
   ],
   "source": [
    "neighborhoods2geometry['Bensonhurst']"
   ]
  },
  {
   "cell_type": "markdown",
   "metadata": {},
   "source": [
    "### Load crime data\n",
    "\n",
    "Load crime data from a local CSV file and:\n",
    "\n",
    "* Transform the original coordinates system (EPSG:4326) to the same SRID used with the neighborhood data (EPSG:26918)\n",
    "* Create a _shapely_ Point for each crime event\n",
    "* Save additional information on a crime event\n"
   ]
  },
  {
   "cell_type": "code",
   "execution_count": null,
   "metadata": {
    "collapsed": false,
    "jupyter": {
     "outputs_hidden": false
    }
   },
   "outputs": [
    {
     "name": "stdout",
     "output_type": "stream",
     "text": [
      "loading crime data from ../data/crime/nyc_crime.csv...\n"
     ]
    }
   ],
   "source": [
    "from shapely.geometry import Point\n",
    "from datetime import datetime\n",
    "import csv\n",
    "\n",
    "crime_data_file = '../data/crime/nyc_crime.csv'\n",
    "\n",
    "crime_events = []\n",
    "print(\"loading crime data from %s...\" %crime_data_file)\n",
    "with open(crime_data_file, 'r') as f:\n",
    "    reader = csv.DictReader(f)\n",
    "    for row in reader:\n",
    "#       Transform crime event location data from EPSG:4326 to EPSG:26918 SRID (same of the neighborhoods shapefile)  \n",
    "        projected_coordinates = transform_point(\"EPSG:4326\", \"EPSG:26918\", (row['longitude'], row['latitude']))\n",
    "        crime_event_location = Point(projected_coordinates)\n",
    "        crime_events.append({\n",
    "            'type': row['Offense'],\n",
    "            'category': row['Offense Classification'],\n",
    "            'geom': crime_event_location,\n",
    "            'date': datetime.strptime(row['Occurrence Date'], '%m/%d/%Y %H:%M:%S %p'),\n",
    "        })\n",
    "\n",
    "print(\"loaded %s crime events.\" %len(crime_events))\n"
   ]
  },
  {
   "cell_type": "markdown",
   "metadata": {},
   "source": [
    "### Perform spatial functions on Python geometry objects\n",
    "\n",
    "In this section we will describe how to compute the most frequent type of crime and its relative frequency for each neighborhood in New York City. We will consider only 10.000 crime instances due to performance issues in computing the spatial function _within_ without the use of indexes or any other performance improvement. "
   ]
  },
  {
   "cell_type": "code",
   "execution_count": null,
   "metadata": {
    "collapsed": false,
    "jupyter": {
     "outputs_hidden": false
    }
   },
   "outputs": [],
   "source": [
    "import operator \n",
    "import time\n",
    "\n",
    "neighborhood2crime_distribution = {}\n",
    "\n",
    "start_time = time.time()\n",
    "for current in crime_events[:10000]:\n",
    "    \n",
    "    crime_type = current['type']\n",
    "\n",
    "    for neighborhood_name in neighborhoods2geometry: \n",
    "        \n",
    "        neighborhood_geom = neighborhoods2geometry[neighborhood_name]\n",
    "        \n",
    "        if current['geom'].within(neighborhood_geom):\n",
    "            neighborhood2crime_distribution.setdefault(neighborhood_name, {})\n",
    "            neighborhood2crime_distribution[neighborhood_name].setdefault(crime_type, 0)\n",
    "            neighborhood2crime_distribution[neighborhood_name][crime_type]+=1\n",
    "            break\n",
    "\n",
    "print(\"Time elapsed: %s seconds\\n\" % (time.time() - start_time))\n",
    "\n",
    "for neighborhood_name in neighborhood2crime_distribution:\n",
    "    most_frequent_crime = max(\n",
    "                            neighborhood2crime_distribution[neighborhood_name].items(), \n",
    "                            key=operator.itemgetter(1))[0]\n",
    "    n_events_most_frequent_crime = neighborhood2crime_distribution[neighborhood_name][most_frequent_crime]\n",
    "    total_crimes = sum(neighborhood2crime_distribution[neighborhood_name].values())\n",
    "    \n",
    "    print(\"%25s\\t%30s\\t%s\\t%.2f\" %(neighborhood_name, \n",
    "                                   most_frequent_crime, \n",
    "                                   n_events_most_frequent_crime,\n",
    "                                   (n_events_most_frequent_crime/total_crimes)*100))\n",
    "\n",
    "\n"
   ]
  },
  {
   "cell_type": "markdown",
   "metadata": {},
   "source": [
    "### Speed up the computation with indexes and prepared geometries\n",
    "\n",
    "To improve the running time of spatial functions (especially if the operation is repeated many times on the same geometry) we can use the following basic strategies:\n",
    "\n",
    "* Create a rtree index that contains the bounding box of the neighborhood shapes\n",
    "* Simplify (preserving the topology) the neighborhood shapes\n",
    "* Create prepared geometries for each simplified neighborhood that greatly improve the performance of repeated spatil operations\n",
    "\n",
    "Note that with these simple improvements we are able to process the entire crime dataset (>100K events) in almost the same time than the previous example (only 10K istances)"
   ]
  },
  {
   "cell_type": "code",
   "execution_count": null,
   "metadata": {
    "collapsed": false,
    "jupyter": {
     "outputs_hidden": false
    }
   },
   "outputs": [],
   "source": [
    "from shapely.prepared import prep\n",
    "from rtree import index\n",
    "\n",
    "# Create an index with the neighborhoods  \n",
    "idx = index.Index()\n",
    "\n",
    "id2neigh = {}\n",
    "neighborhoods2prepared_geometry = {}\n",
    "\n",
    "start_time = time.time()\n",
    "\n",
    "for i, neigh in enumerate(neighborhoods2geometry):\n",
    "\n",
    "    id2neigh[i] = neigh    \n",
    "    idx.insert(i, neighborhoods2geometry[neigh].bounds)\n",
    "    neighborhoods2prepared_geometry[neigh] = prep(neighborhoods2geometry[neigh].simplify(0.5, preserve_topology=True))\n",
    "    \n",
    "neighborhood2crime_distribution = {}\n",
    "\n",
    "for current in crime_events:\n",
    "    \n",
    "    crime_type = current['type']\n",
    "    \n",
    "    for j in idx.intersection(current['geom'].bounds):\n",
    "        \n",
    "        if neighborhoods2prepared_geometry[id2neigh[j]].contains(current['geom']):\n",
    "            neighborhood2crime_distribution.setdefault(id2neigh[j], {})\n",
    "            neighborhood2crime_distribution[id2neigh[j]].setdefault(crime_type, 0)\n",
    "            neighborhood2crime_distribution[id2neigh[j]][crime_type]+=1\n",
    "            break\n",
    "            \n",
    "print(\"Time elapsed: %s seconds\\n\" % (time.time() - start_time))\n",
    "\n",
    "for neighborhood_name in neighborhood2crime_distribution:\n",
    "    most_frequent_crime = max(\n",
    "                            neighborhood2crime_distribution[neighborhood_name].items(), \n",
    "                            key=operator.itemgetter(1))[0]\n",
    "    n_events_most_frequent_crime = neighborhood2crime_distribution[neighborhood_name][most_frequent_crime]\n",
    "    total_crimes = sum(neighborhood2crime_distribution[neighborhood_name].values())\n",
    "    \n",
    "    print(\"%25s\\t%30s\\t%s\\t%.2f\" %(neighborhood_name, \n",
    "                                   most_frequent_crime, \n",
    "                                   n_events_most_frequent_crime,\n",
    "                                   (n_events_most_frequent_crime/total_crimes)*100))"
   ]
  },
  {
   "cell_type": "markdown",
   "metadata": {},
   "source": [
    "**Q1: _Which is the street in New York City with the highest density of crime? (e.g., the highest concentration of criminal activity w.r.t. its lenght)_**"
   ]
  },
  {
   "cell_type": "code",
   "execution_count": null,
   "metadata": {
    "collapsed": true,
    "jupyter": {
     "outputs_hidden": true
    }
   },
   "outputs": [],
   "source": []
  }
 ],
 "metadata": {
  "kernelspec": {
   "display_name": "Python 3",
   "language": "python",
   "name": "python3"
  },
  "language_info": {
   "codemirror_mode": {
    "name": "ipython",
    "version": 3
   },
   "file_extension": ".py",
   "mimetype": "text/x-python",
   "name": "python",
   "nbconvert_exporter": "python",
   "pygments_lexer": "ipython3",
   "version": "3.7.7"
  }
 },
 "nbformat": 4,
 "nbformat_minor": 4
}

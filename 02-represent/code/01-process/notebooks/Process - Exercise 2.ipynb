{
 "cells": [
  {
   "cell_type": "markdown",
   "metadata": {},
   "source": [
    "# Spatial Analysis and Modeling\n",
    "\n",
    "### Instructor: Rossano Schifanella\n",
    "Email: [rossano.schifanella@unito.it](mailto:rossano.schifanella@unito.it)\n",
    "\n",
    "## Represent Spatial Data"
   ]
  },
  {
   "cell_type": "markdown",
   "metadata": {},
   "source": [
    "## Exercise 2\n",
    "\n",
    "In this exercise you will learn how to:\n",
    "\n",
    "* Connect a spatial database to a python script\n",
    "* Make simple spatial queries\n",
    "* Join spatial tables and different geometry types in complex queries\n",
    "\n",
    "## Connect to a PostGIS database"
   ]
  },
  {
   "cell_type": "code",
   "execution_count": 12,
   "metadata": {
    "collapsed": false,
    "jupyter": {
     "outputs_hidden": false
    }
   },
   "outputs": [],
   "source": [
    "import psycopg2\n",
    "import psycopg2.extras\n",
    "\n",
    "try:\n",
    "    conn = psycopg2.connect(\"dbname='geocycle' user='geocycle' host='localhost' password='geocycle'\")\n",
    "except Exception as e:\n",
    "    print(e)"
   ]
  },
  {
   "cell_type": "markdown",
   "metadata": {},
   "source": [
    "## Make simple spatial queries"
   ]
  },
  {
   "cell_type": "markdown",
   "metadata": {},
   "source": [
    "**Q1: _Which is the extension (in km<sup>2</sup>) of the different boroughs in New York City?_**\n"
   ]
  },
  {
   "cell_type": "code",
   "execution_count": 13,
   "metadata": {
    "collapsed": false,
    "jupyter": {
     "outputs_hidden": false
    }
   },
   "outputs": [
    {
     "name": "stdout",
     "output_type": "stream",
     "text": [
      "                 The Rockaways\t              Queens\t27.97\n",
      "      Gravesend-Sheepshead Bay\t            Brooklyn\t19.93\n",
      "                      Canarsie\t            Brooklyn\t17.71\n",
      "       Douglastown-Little Neck\t              Queens\t17.54\n",
      "     Bloomfield-Chelsea-Travis\t       Staten Island\t14.13\n",
      "                       Jamaica\t              Queens\t13.86\n",
      "                  Richmondtown\t       Staten Island\t12.91\n",
      "            Mapleton-Flatlands\t            Brooklyn\t12.20\n",
      "                 East Brooklyn\t            Brooklyn\t11.10\n",
      "                   Eastchester\t           The Bronx\t10.79\n",
      "            Bedford-Stuyvesant\t            Brooklyn\t10.78\n",
      "                        Utopia\t              Queens\t10.70\n",
      "                      Flushing\t              Queens\t10.63\n",
      "                  New Brighton\t       Staten Island\t9.28\n",
      "                   Saintalbans\t              Queens\t9.08\n",
      "                  Nkew Gardens\t              Queens\t8.65\n",
      "                  Forest Hills\t              Queens\t8.57\n",
      "                  Throggs Neck\t           The Bronx\t8.28\n",
      "                   South Bronx\t           The Bronx\t8.00\n",
      "                     Laurelton\t              Queens\t7.95\n",
      "      Astoria-Long Island City\t              Queens\t7.83\n",
      "                    Sunny Side\t              Queens\t7.80\n",
      "                       Oakwood\t       Staten Island\t7.79\n",
      "                  Williamsburg\t            Brooklyn\t7.61\n",
      "       Woodhaven-Richmond Hill\t              Queens\t7.60\n",
      "                Queens Village\t              Queens\t7.44\n",
      "                   Ettingville\t       Staten Island\t7.19\n",
      "                   Brownsville\t            Brooklyn\t7.11\n",
      "         Westerleigh-Castleton\t       Staten Island\t6.98\n",
      "                     Riverdale\t           The Bronx\t6.98\n",
      "      Wakefield-Williamsbridge\t           The Bronx\t6.93\n",
      "                      Glendale\t              Queens\t6.77\n",
      "                  Borough Park\t            Brooklyn\t6.69\n",
      "                 Midland Beach\t       Staten Island\t6.59\n",
      "                      Bushwick\t            Brooklyn\t6.58\n",
      "                   South Beach\t       Staten Island\t6.51\n",
      "               Jackson Heights\t              Queens\t6.41\n",
      "                   Great Kills\t       Staten Island\t6.40\n",
      "                    Auburndale\t              Queens\t6.34\n",
      "                     Todt Hill\t       Staten Island\t6.33\n",
      "                  Prince's Bay\t       Staten Island\t6.31\n",
      "                       Maspeth\t              Queens\t6.28\n",
      "               Mariners Harbor\t       Staten Island\t6.11\n",
      "                  Tottensville\t       Staten Island\t6.05\n",
      "               Queensboro Hill\t              Queens\t5.95\n",
      "                     Clearview\t              Queens\t5.87\n",
      "                    Fort Green\t            Brooklyn\t5.83\n",
      "                   Bensonhurst\t            Brooklyn\t5.83\n",
      "                     Soundview\t           The Bronx\t5.80\n",
      "           Springfield Gardens\t              Queens\t5.75\n",
      "                   Sunset Park\t            Brooklyn\t5.72\n",
      "                     Ridgewood\t              Queens\t5.55\n",
      "                       Clifton\t       Staten Island\t5.45\n",
      "            Washington Heights\t           Manhattan\t5.39\n",
      "               Upper West Side\t           Manhattan\t5.35\n",
      "                     Bay Ridge\t            Brooklyn\t5.26\n",
      "                   Parkchester\t           The Bronx\t5.11\n",
      "             Woodlawn-Nordwood\t           The Bronx\t5.05\n",
      "                    Mott Haven\t           The Bronx\t4.92\n",
      "   Charlestown-Richmond Valley\t       Staten Island\t4.89\n",
      "                Middle Village\t              Queens\t4.87\n",
      "                  Bedford Park\t           The Bronx\t4.74\n",
      "                  Country Club\t           The Bronx\t4.72\n",
      "                 Ardon Heights\t       Staten Island\t4.65\n",
      "                      Huguenot\t       Staten Island\t4.63\n",
      "                       Tremont\t           The Bronx\t4.61\n",
      "                   Hunts Point\t           The Bronx\t4.55\n",
      "                 Dyker Heights\t            Brooklyn\t4.48\n",
      "                     Rossville\t       Staten Island\t4.41\n",
      "                        Harlem\t           Manhattan\t4.32\n",
      "                  Howland Hook\t       Staten Island\t4.24\n",
      "               Upper East Side\t           Manhattan\t4.20\n",
      "                     Greenwood\t            Brooklyn\t3.99\n",
      "                     Annandale\t       Staten Island\t3.82\n",
      "                    Union Port\t           The Bronx\t3.76\n",
      "                      Woodside\t              Queens\t3.66\n",
      "                    Park Slope\t            Brooklyn\t3.61\n",
      "                       Midtown\t           Manhattan\t3.58\n",
      "                  Central Park\t           Manhattan\t3.52\n",
      "                   Morris Park\t           The Bronx\t3.44\n",
      "               Williams Bridge\t           The Bronx\t3.24\n",
      "                   Fresh Kills\t       Staten Island\t3.19\n",
      "                   High Bridge\t           The Bronx\t3.03\n",
      "                 Port Richmond\t       Staten Island\t2.97\n",
      "                        Inwood\t           Manhattan\t2.79\n",
      "                       Chelsea\t           Manhattan\t2.75\n",
      "               Lower East Side\t           Manhattan\t2.63\n",
      "                      Gramercy\t           Manhattan\t2.51\n",
      "              Hamilton Heights\t           Manhattan\t2.34\n",
      "                       Woodrow\t       Staten Island\t2.23\n",
      "               Carroll Gardens\t            Brooklyn\t2.20\n",
      "                       Fordham\t           The Bronx\t2.13\n",
      "            University Heights\t           The Bronx\t2.01\n",
      "                    Baychester\t           The Bronx\t1.97\n",
      "                Morris Heights\t           The Bronx\t1.81\n",
      "                      Flatbush\t            Brooklyn\t1.77\n",
      "                   East Harlem\t           Manhattan\t1.75\n",
      "                  East Village\t           Manhattan\t1.63\n",
      "           Morningside Heights\t           Manhattan\t1.59\n",
      "                  Kings Bridge\t           The Bronx\t1.58\n",
      "                       Clinton\t           Manhattan\t1.56\n",
      "                     Yorkville\t           Manhattan\t1.48\n",
      "            Financial District\t           Manhattan\t1.42\n",
      "             Greenwich Village\t           Manhattan\t1.34\n",
      "                Spuyten Duyvil\t           The Bronx\t1.27\n",
      "                      Steinway\t              Queens\t1.23\n",
      "                   Boerum Hill\t            Brooklyn\t1.12\n",
      "                  West Village\t           Manhattan\t1.05\n",
      "                       Tribeca\t           Manhattan\t1.04\n",
      "                      Downtown\t            Brooklyn\t0.92\n",
      "                          Soho\t           Manhattan\t0.92\n",
      "                   City Island\t           The Bronx\t0.92\n",
      "                   Cobble Hill\t            Brooklyn\t0.82\n",
      "              Garment District\t           Manhattan\t0.80\n",
      "                   Murray Hill\t           Manhattan\t0.80\n",
      "                  Battery Park\t           Manhattan\t0.49\n",
      "                 Carnegie Hill\t           Manhattan\t0.39\n",
      "                     Chinatown\t           Manhattan\t0.33\n",
      "             North Sutton Area\t           Manhattan\t0.33\n",
      "                  Little Italy\t           Manhattan\t0.27\n",
      "                        Corona\t              Queens\t0.15\n",
      "                      Red Hook\t            Brooklyn\t0.11\n",
      "                  Howard Beach\t              Queens\t0.05\n",
      "                 College Point\t              Queens\t0.05\n",
      "                      Rosebank\t       Staten Island\t0.05\n",
      "                       Bayside\t              Queens\t0.05\n",
      "                    Whitestone\t              Queens\t0.03\n",
      "                  Coney Island\t            Brooklyn\t0.01\n",
      "                      Rosedale\t              Queens\t0.00\n"
     ]
    }
   ],
   "source": [
    "cursor = conn.cursor()\n",
    "\n",
    "cursor.execute(\"SELECT name, boroname, ST_Area(geom::geography)/power(10,6) AS area \"\\\n",
    "               \"FROM nyc_neighborhoods \"\\\n",
    "               \"ORDER by area DESC\");\n",
    "\n",
    "records = cursor.fetchall()\n",
    "\n",
    "for r in records:\n",
    "    print(\"%30s\\t%20s\\t%.2f\" %(r[0], r[1], r[2]))\n",
    "\n",
    "cursor.close()\n"
   ]
  },
  {
   "cell_type": "markdown",
   "metadata": {},
   "source": [
    "**Q2: _Which is the longest street in New York City?**\n",
    "\n",
    "Note the use of the class **DictCursor** that allows to access to the retrieved records using an interface similar to the Python dictionaries instead of the tuples. "
   ]
  },
  {
   "cell_type": "code",
   "execution_count": 14,
   "metadata": {
    "collapsed": false,
    "jupyter": {
     "outputs_hidden": false
    }
   },
   "outputs": [
    {
     "name": "stdout",
     "output_type": "stream",
     "text": [
      " 5703776\t7651.028\t               Boardwalk\tpedestrian\n"
     ]
    }
   ],
   "source": [
    "cursor = conn.cursor(cursor_factory=psycopg2.extras.DictCursor)\n",
    "\n",
    "cursor.execute(\"SELECT id as wayid, \"\\\n",
    "        \"ST_Length(linestring::geography) as length, \"\\\n",
    "        \"tags->'name' as name, \"\\\n",
    "        \"tags->'highway' as type \"\\\n",
    "        \"FROM ways \"\\\n",
    "        \"WHERE linestring IS NOT NULL ORDER BY length DESC LIMIT 1;\");\n",
    "\n",
    "records = cursor.fetchall()\n",
    "\n",
    "for r in records:\n",
    "    print(\"%8d\\t%.3f\\t%24s\\t%s\" %(r[\"wayid\"], r[\"length\"], r[\"name\"], r[\"type\"]))  \n",
    "    \n",
    "cursor.close()"
   ]
  },
  {
   "cell_type": "markdown",
   "metadata": {},
   "source": [
    "**Q3: _How many census blocks in New York City have a hole in them?_** "
   ]
  },
  {
   "cell_type": "code",
   "execution_count": 15,
   "metadata": {
    "collapsed": false,
    "jupyter": {
     "outputs_hidden": false
    }
   },
   "outputs": [
    {
     "name": "stdout",
     "output_type": "stream",
     "text": [
      "37\n"
     ]
    }
   ],
   "source": [
    "cursor = conn.cursor()\n",
    "\n",
    "cursor.execute(\n",
    "    \"SELECT count(*) \"\\\n",
    "        \"FROM nyc_census_blocks \"\\\n",
    "        \"WHERE ST_NumInteriorRings(ST_GeometryN(geom, 1)) > 0;\");\n",
    "\n",
    "print(cursor.fetchone()[0])\n"
   ]
  },
  {
   "cell_type": "markdown",
   "metadata": {},
   "source": [
    "**Q4: _What is the length (in kilometers) of streets in New York City, summarized by type?_** "
   ]
  },
  {
   "cell_type": "code",
   "execution_count": 16,
   "metadata": {
    "collapsed": false,
    "jupyter": {
     "outputs_hidden": false
    }
   },
   "outputs": [
    {
     "name": "stdout",
     "output_type": "stream",
     "text": [
      "    residential\t7383.14\n",
      "      secondary\t1062.90\n",
      "        service\t936.78\n",
      "        footway\t719.27\n",
      "       motorway\t664.02\n",
      "       tertiary\t641.90\n",
      "        primary\t540.17\n",
      "  motorway_link\t408.60\n",
      "       cycleway\t251.87\n",
      "   unclassified\t216.33\n",
      "          trunk\t187.04\n",
      "     pedestrian\t93.35\n",
      "           path\t69.59\n",
      "          track\t44.79\n",
      "   primary_link\t14.17\n",
      "     trunk_link\t13.77\n",
      "          steps\t12.76\n",
      "      bridleway\t11.73\n",
      " secondary_link\t7.05\n",
      "   construction\t3.27\n",
      "        raceway\t2.61\n",
      "  tertiary_link\t2.31\n",
      "       platform\t1.36\n",
      "  living_street\t1.02\n",
      "           road\t0.71\n",
      "       proposed\t0.59\n",
      "         closed\t0.32\n",
      "        disused\t0.27\n",
      "       elevator\t0.01\n"
     ]
    }
   ],
   "source": [
    "cursor = conn.cursor(cursor_factory=psycopg2.extras.DictCursor)\n",
    "\n",
    "cursor.execute(\n",
    "    \"SELECT tags->'highway' as type, \"\\\n",
    "        \"SUM(ST_Length(linestring::geography))/1000 AS length \"\\\n",
    "        \"FROM ways \"\\\n",
    "        \"GROUP BY type \"\\\n",
    "        \"ORDER BY length DESC;\");\n",
    "\n",
    "records = cursor.fetchall()\n",
    "\n",
    "for r in records:\n",
    "    print(\"%15s\\t%.2f\" %(r[\"type\"], r[\"length\"]))\n"
   ]
  },
  {
   "cell_type": "markdown",
   "metadata": {},
   "source": [
    "**Q5: __** \n",
    "\n"
   ]
  },
  {
   "cell_type": "code",
   "execution_count": null,
   "metadata": {
    "collapsed": false,
    "jupyter": {
     "outputs_hidden": false
    }
   },
   "outputs": [],
   "source": []
  },
  {
   "cell_type": "markdown",
   "metadata": {},
   "source": [
    "## Make spatial joins and complex queries\n",
    "\n",
    "In this section we will show how to make spatial joins and the use of spatial functions that involve more than a geometry (e.g., ST_Within, ST_DWithin, ST_Contains, or ST_Crosses)\n",
    "\n",
    "**Q1: _How many Instagram pictures has been taken in each borough during March 2015?_**"
   ]
  },
  {
   "cell_type": "code",
   "execution_count": 17,
   "metadata": {
    "collapsed": false,
    "jupyter": {
     "outputs_hidden": false
    },
    "scrolled": true
   },
   "outputs": [
    {
     "name": "stdout",
     "output_type": "stream",
     "text": [
      "           Manhattan\t7636\n"
     ]
    }
   ],
   "source": [
    "\n",
    "cursor.execute(\n",
    "    \"SELECT b.boroname as boroname, count(p.pid) AS cnt \"\\\n",
    "    \"FROM instagram_photos as p \"\\\n",
    "    \"JOIN nyc_boroughs as b \"\\\n",
    "    \"ON ST_Within(p.geom, b.geom) \"\\\n",
    "    \"WHERE date_part('month', p.created_at)=3 \"\\\n",
    "    \"GROUP BY b.boroname \"\\\n",
    "    \"ORDER BY cnt DESC;\");\n",
    "\n",
    "records = cursor.fetchall()\n",
    "\n",
    "for r in records:\n",
    "    print(\"%20s\\t%d\" %(r[\"boroname\"], r[\"cnt\"]))\n"
   ]
  },
  {
   "cell_type": "markdown",
   "metadata": {},
   "source": [
    "**Q2: _Which were the 10 most dangerous streets of New York city in March?_**\n",
    "\n",
    "We suppose that a criminal activity happended in a street within a 25 meters confidence buffer"
   ]
  },
  {
   "cell_type": "code",
   "execution_count": 18,
   "metadata": {
    "collapsed": false,
    "jupyter": {
     "outputs_hidden": false
    }
   },
   "outputs": [
    {
     "name": "stdout",
     "output_type": "stream",
     "text": [
      " 195743336\t          5th Avenue\t           secondary\t37\n",
      "   5695685\t                None\t             service\t32\n",
      "   5697592\t        Hazen Street\t             service\t32\n",
      " 196117039\t    Lexington Avenue\t           secondary\t27\n",
      "   5670600\t    West 34th Street\t             primary\t25\n",
      "   5669742\t            Broadway\t           secondary\t23\n",
      " 196117089\t          3rd Avenue\t             primary\t22\n",
      " 221157083\t          3rd Avenue\t             primary\t20\n",
      " 221696378\t     Nostrand Avenue\t           secondary\t17\n",
      " 221576343\t      Jamaica Avenue\t           secondary\t15\n"
     ]
    }
   ],
   "source": [
    "cursor.execute(\n",
    "    \"SELECT w.id as wayid, w.tags->'name' AS wayname, w.tags->'highway' AS waytype, count(c.identifier) AS cnt \"\\\n",
    "    \"FROM (SELECT * FROM nyc_crime WHERE date_part('month', date)=3) AS c \"\\\n",
    "    \"JOIN ways AS w \"\\\n",
    "    \"ON ST_DWithin(c.geom, w.linestring, 0.0001) \"\\\n",
    "    \"GROUP BY w.id \"\\\n",
    "    \"ORDER BY cnt DESC \"\\\n",
    "    \"LIMIT 10;\")\n",
    "    \n",
    "records = cursor.fetchall()\n",
    "\n",
    "for r in records:\n",
    "    print(\"%10s\\t%20s\\t%20s\\t%d\" %(r[\"wayid\"], r[\"wayname\"], r[\"waytype\"], r['cnt']))\n"
   ]
  },
  {
   "cell_type": "markdown",
   "metadata": {},
   "source": [
    "**Q3: Which is the neighborhood that has the highest number of streets that cross its border? **"
   ]
  },
  {
   "cell_type": "code",
   "execution_count": 19,
   "metadata": {
    "collapsed": false,
    "jupyter": {
     "outputs_hidden": false
    }
   },
   "outputs": [
    {
     "name": "stdout",
     "output_type": "stream",
     "text": [
      "  Bushwick\t180\n"
     ]
    }
   ],
   "source": [
    "cursor.execute(\n",
    "    \"select n.name as name, count(w.id) as cnt \"\\\n",
    "    \"from ways as w \"\\\n",
    "    \"join nyc_neighborhoods as n \"\\\n",
    "    \"on ST_Crosses(w.linestring, n.geom) \"\\\n",
    "    \"group by n.gid \"\\\n",
    "    \"order by cnt desc \"\\\n",
    "    \"limit 1;\")\n",
    "\n",
    "records = cursor.fetchall()\n",
    "\n",
    "for r in records:\n",
    "    print(\"%10s\\t%d\" %(r[\"name\"], r[\"cnt\"]))\n",
    "\n"
   ]
  },
  {
   "cell_type": "markdown",
   "metadata": {},
   "source": [
    "**Q4: _Which is the most frequent type of crime in each neighborhood and its relative frequency?_**"
   ]
  },
  {
   "cell_type": "code",
   "execution_count": null,
   "metadata": {},
   "outputs": [],
   "source": []
  },
  {
   "cell_type": "code",
   "execution_count": 20,
   "metadata": {},
   "outputs": [],
   "source": [
    "cursor.close()\n",
    "conn.close()"
   ]
  },
  {
   "cell_type": "code",
   "execution_count": null,
   "metadata": {},
   "outputs": [],
   "source": []
  }
 ],
 "metadata": {
  "kernelspec": {
   "display_name": "Python 3",
   "language": "python",
   "name": "python3"
  },
  "language_info": {
   "codemirror_mode": {
    "name": "ipython",
    "version": 3
   },
   "file_extension": ".py",
   "mimetype": "text/x-python",
   "name": "python",
   "nbconvert_exporter": "python",
   "pygments_lexer": "ipython3",
   "version": "3.7.7"
  }
 },
 "nbformat": 4,
 "nbformat_minor": 4
}
